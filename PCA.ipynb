{
 "cells": [
  {
   "cell_type": "code",
   "execution_count": 5,
   "metadata": {
    "collapsed": true
   },
   "outputs": [],
   "source": [
    "import struct\n",
    "from struct import *\n",
    "import numpy as np\n",
    "from array import array\n",
    "import matplotlib.pyplot as plt\n",
    "import numpy.linalg as LA\n",
    "import pandas as pd\n",
    "from math import pi, sqrt, exp"
   ]
  },
  {
   "cell_type": "code",
   "execution_count": 6,
   "metadata": {
    "collapsed": true
   },
   "outputs": [],
   "source": [
    "def writeExcelData(x,excelfile,sheetname,startrow,startcol):\n",
    "    from pandas import DataFrame, ExcelWriter\n",
    "    from openpyxl import load_workbook\n",
    "    df=DataFrame(x)\n",
    "    book = load_workbook(excelfile)\n",
    "    writer = ExcelWriter(excelfile, engine='openpyxl') \n",
    "    writer.book = book\n",
    "    writer.sheets = dict((ws.title, ws) for ws in book.worksheets)\n",
    "    df.to_excel(writer, sheet_name=sheetname,startrow=startrow-1, startcol=startcol-1, header=False, index=False)\n",
    "    writer.save()\n",
    "    writer.close()\n",
    "\n",
    "\n",
    "def load_mnist(dataset = 'training', selecteddigits = [0,5], path = '/Users/Jerry/Desktop/ml/sklearn/'):\n",
    "    if dataset == 'training':\n",
    "        fname_digits = path + 'train-images-idx3-ubyte'\n",
    "        fname_labels = path + 'train-labels-idx1-ubyte'\n",
    "    elif dataset == 'testing':\n",
    "        fname_digits = path + 't10k-images-idx3-ubyte'\n",
    "        fname_labels = path + 't10k-labels-idx1-ubyte'\n",
    "    else:\n",
    "        raise ValueError('Must be training or testing')\n",
    "        \n",
    "    digitsfileobject = open(fname_digits, 'rb')\n",
    "    magic_nr, size, rows, cols = struct.unpack(\">IIII\",digitsfileobject.read(16))\n",
    "    digitsdata = array('B',digitsfileobject.read())\n",
    "    digitsfileobject.close()\n",
    "    \n",
    "    labelsfileobject = open(fname_labels, 'rb')\n",
    "    magic_nr, size  = struct.unpack('>II',labelsfileobject.read(8))\n",
    "    labelsdata = array('B', labelsfileobject.read())\n",
    "    labelsfileobject.close()\n",
    "    \n",
    "    indices = [i for i in range(size) if labelsdata[i] in selecteddigits]\n",
    "    N = len(indices)\n",
    "\n",
    "    X = np.zeros(shape = (N,rows*cols), dtype = np.uint8)\n",
    "    T = np.zeros(shape = (N,1), dtype = np.uint8)\n",
    "    \n",
    "    for i in range(N):\n",
    "        X[i] = digitsdata[indices[i]*rows*cols:(indices[i]+1)*rows*cols]\n",
    "        #print(len(X[i]))\n",
    "        T[i] = labelsdata[indices[i]]\n",
    "    #print(indices[i], rows, cols, indices[i]+1)\n",
    "    return X,T\n",
    "\n",
    "\n",
    "def vector2image(v, show = True):\n",
    "    v = v.reshape(28,28)\n",
    "    plt.imshow(v,cmap = 'gray')\n",
    "    plt.axis('off')\n",
    "    if show:\n",
    "        plt.show()\n",
    "\n",
    "def vectortoimg(*args, width = 28, size = 1):\n",
    "    n = len(args)\n",
    "    fig = plt.figure()\n",
    "    for i, arg in enumerate(args):\n",
    "        plt.subplot(1,n,i+1)\n",
    "        plt.imshow(arg.reshape(width, width), interpolation = 'None', cmap = 'gray')\n",
    "        plt.axis('off')\n",
    "    fig.tight_layout(pad = 0)\n",
    "    fig.set_size_inches(w=n*size, h = size)\n",
    "    plt.show()\n",
    "\n",
    "def classifier_2dhist(queries, HP, HN, pmax, pmin): \n",
    "    bins_index = HP.shape - np.array([1,1])\n",
    "    queries_index = np.clip(np.round((queries-pmin)/(pmax-pmin) * np.alen(HP)) , 0 ,np.alen(HP)-1 ).astype('int32')\n",
    "    resultlabel = np.full(shape = np.alen(queries[0]), fill_value = 'Indeterminate').astype('object')\n",
    "    resultpro = np.full(shape = np.alen(queries[0]), fill_value = np.nan).astype('object')\n",
    "    countP = HP[queries_index[0],queries_index[1]]\n",
    "    countN = HN[queries_index[0],queries_index[1]]\n",
    "    IndexResultlableP = countP>countN\n",
    "    IndexResultlableN = countN>countP\n",
    "    resultlabel[IndexResultlableP] = 'Positive'\n",
    "    resultlabel[IndexResultlableN] = 'Negative'\n",
    "    if countP > countN:\n",
    "        resultpro = countP / (countP + countN)\n",
    "    elif countP == countN:\n",
    "        resultpro = 0.5\n",
    "    else:\n",
    "        resultpro = countN / (countP + countN)\n",
    "    return resultlabel, resultpro\n",
    "    "
   ]
  },
  {
   "cell_type": "code",
   "execution_count": 7,
   "metadata": {},
   "outputs": [
    {
     "name": "stdout",
     "output_type": "stream",
     "text": [
      "PCA.html                 scatterplot_0_5.png      train-images-idx3-ubyte\r\n",
      "PCA.ipynb                t10k-images-idx3-ubyte   train-labels-idx1-ubyte\r\n",
      "data3.xlsx               t10k-labels-idx1-ubyte   ~$data3.xlsx\r\n"
     ]
    }
   ],
   "source": [
    "ls"
   ]
  },
  {
   "cell_type": "code",
   "execution_count": 8,
   "metadata": {},
   "outputs": [],
   "source": [
    "# training\n",
    "T, L = load_mnist('training', selecteddigits=[0, 5])"
   ]
  },
  {
   "cell_type": "code",
   "execution_count": 9,
   "metadata": {
    "collapsed": true
   },
   "outputs": [],
   "source": [
    "label0 = L[ L == 0] #Negative \n",
    "label5 = L[ L == 5] #Positive\n"
   ]
  },
  {
   "cell_type": "code",
   "execution_count": 10,
   "metadata": {},
   "outputs": [
    {
     "name": "stdout",
     "output_type": "stream",
     "text": [
      "Shape of the X >  (11344, 784)\n",
      "Shape of the mu >  (784,)\n",
      "Two image from X > \n"
     ]
    },
    {
     "data": {
      "image/png": "[encoded data removed]",
      "text/plain": [
       "<Figure size 144x72 with 2 Axes>"
      ]
     },
     "metadata": {},
     "output_type": "display_data"
    }
   ],
   "source": [
    "# T is image, L is label\n",
    "# X      XZCVPR\n",
    "X = T\n",
    "mu = np.mean(X, axis = 0)\n",
    "print('Shape of the X > ',X.shape)\n",
    "print('Shape of the mu > ',mu.shape) \n",
    "print('Two image from X > ')\n",
    "plt.close('all')\n",
    "vectortoimg(X[0], X[-1])\n"
   ]
  },
  {
   "cell_type": "code",
   "execution_count": 11,
   "metadata": {},
   "outputs": [
    {
     "name": "stdout",
     "output_type": "stream",
     "text": [
      "Check the min and max of the mu >  min:0.0, max:178.888311001    they need to lie within[0,255]\n",
      "Show the image of mu > \n"
     ]
    },
    {
     "data": {
      "image/png": "[encoded data removed]",
      "text/plain": [
       "<Figure size 72x72 with 1 Axes>"
      ]
     },
     "metadata": {},
     "output_type": "display_data"
    },
    {
     "name": "stdout",
     "output_type": "stream",
     "text": [
      "+------+------+------+------+------+\n",
      "Shape of the Z >  (11344, 784)\n",
      "Z's mean >  5.46492671469e-16\n",
      "Show the min max of the Z > min:-178.888311001, max:254.977521157\n"
     ]
    }
   ],
   "source": [
    "# Z      XZCVPR\n",
    "Z = X-mu\n",
    "print('Check the min and max of the mu > ','min:%s, max:%s'%(np.min(mu),np.max(mu)), '   they need to lie within[0,255]')\n",
    "print('Show the image of mu > ')\n",
    "vectortoimg(mu)\n",
    "print('+------+------+------+------+------+')\n",
    "print('Shape of the Z > ',Z.shape)\n",
    "print('Z\\'s mean > ', Z.mean())\n",
    "print('Show the min max of the Z > min:%s, max:%s'%(np.min(Z),np.max(Z)))"
   ]
  },
  {
   "cell_type": "code",
   "execution_count": 12,
   "metadata": {},
   "outputs": [
    {
     "name": "stdout",
     "output_type": "stream",
     "text": [
      "The shape of the Covariance matrix >  (784, 784)\n",
      "Image of the Covariance Matrix > \n"
     ]
    },
    {
     "data": {
      "image/png": "[encoded data removed]",
      "text/plain": [
       "<Figure size 432x288 with 1 Axes>"
      ]
     },
     "metadata": {},
     "output_type": "display_data"
    }
   ],
   "source": [
    "#C      XZCVPR\n",
    "C = np.cov(X, rowvar = False)\n",
    "print('The shape of the Covariance matrix > ',C.shape)\n",
    "print('Image of the Covariance Matrix > ')\n",
    "plt.imshow(C, cmap = 'gray')\n",
    "plt.show()\n"
   ]
  },
  {
   "cell_type": "code",
   "execution_count": 13,
   "metadata": {},
   "outputs": [
    {
     "name": "stdout",
     "output_type": "stream",
     "text": [
      "Check which first row or first col is eighen vector > \n",
      "\n",
      "Unique values in matrx >  [-0. -0. -0. -0. -0. -0. -0. -0. -0. -0. -0. -0. -0. -0. -0. -0. -0. -0.\n",
      " -0. -0. -0. -0. -0. -0. -0. -0. -0. -0. -0. -0. -0. -0. -0. -0. -0. -0.\n",
      " -0. -0. -0. -0. -0. -0. -0. -0. -0. -0. -0. -0. -0. -0. -0. -0. -0. -0.\n",
      " -0. -0. -0. -0. -0. -0. -0. -0. -0. -0. -0. -0. -0. -0. -0. -0. -0. -0.\n",
      " -0. -0. -0. -0. -0. -0. -0. -0. -0. -0. -0. -0. -0. -0. -0. -0. -0. -0.\n",
      " -0. -0. -0. -0. -0. -0. -0.  0.  0.  0.  0.  0.  0.  0.  0.  0.  0.  0.\n",
      "  0.  0.  0.  0.  0.  0.  0.  0.  0.  0.  0.  0.  0.  0.  0.  0.  0.  0.\n",
      "  0.  0.  0.  0.  0.  0.  0.  0.  0.  0.  0.  0.  0.  0.  0.  0.  0.  0.\n",
      "  0.  0.  0.  0.  0.  0.  0.  0.  0.  0.  0.  0.  0.  0.  0.  0.  0.  0.\n",
      "  0.  0.  0.  0.  0.  0.  0.  0.  0.  0.  0.  0.  0.  0.  0.  0.  0.  0.\n",
      "  0.  0.  0.  0.  0.  0.  0.  0.  0.  0.  0.  0.  0.  0.  0.  0.  0.  0.\n",
      "  0.  0.  0.  0.  0.  0.  0.  0.  0.  0.  0.  0.  0.  0.  0.  0.  0.  0.\n",
      "  0.  0.  0.  0.  0.  0.  0.  0.  0.  0.  0.  0.  0.  0.  0.  0.]\n",
      "Now we know that first row of the matrx is our eighen vector!\n",
      "Here is the image produced from two row eighen vector\n"
     ]
    },
    {
     "data": {
      "image/png": "[encoded data removed]",
      "text/plain": [
       "<Figure size 72x72 with 1 Axes>"
      ]
     },
     "metadata": {},
     "output_type": "display_data"
    }
   ],
   "source": [
    "#V      XZCVPR\n",
    "V_value, V_vector = LA.eigh(C)\n",
    "V_value = np.flipud(V_value)\n",
    "V_vector = np.flipud(V_vector.T)\n",
    "print('Check which first row or first col is eighen vector > \\n')\n",
    "matrx = np.dot(C, V_vector[0,:]) - V_vector[0,:]*V_value[0]\n",
    "print('Unique values in matrx > ',np.round(np.unique(matrx)))\n",
    "print('Now we know that first row of the matrx is our eighen vector!')\n",
    "TwoRowVector = V_vector[0:2,:].copy()\n",
    "plt.close('all')\n",
    "print('Here is the image produced from two row eighen vector')\n",
    "vectortoimg(TwoRowVector[0])\n",
    "\n"
   ]
  },
  {
   "cell_type": "code",
   "execution_count": 14,
   "metadata": {},
   "outputs": [
    {
     "name": "stdout",
     "output_type": "stream",
     "text": [
      "Dimension of P >  (11344, 2)\n",
      "Plotting the negative image and positive imamge > \n"
     ]
    },
    {
     "data": {
      "image/png": "[encoded data removed]",
      "text/plain": [
       "<Figure size 432x288 with 1 Axes>"
      ]
     },
     "metadata": {},
     "output_type": "display_data"
    },
    {
     "name": "stdout",
     "output_type": "stream",
     "text": [
      "<module 'matplotlib.pyplot' from '/Users/Jerry/anaconda3/lib/python3.6/site-packages/matplotlib/pyplot.py'>\n"
     ]
    }
   ],
   "source": [
    "#P      XZCVPR\n",
    "P = np.dot(Z,V_vector.T )\n",
    "TwoRowMatrix_P = P[:,0:2].copy()\n",
    "print('Dimension of P > ', TwoRowMatrix_P.shape)\n",
    "P_df = pd.DataFrame({'1D':TwoRowMatrix_P[:,0],'2D':TwoRowMatrix_P[:,1]})\n",
    "P_df_negative = P_df[ L == 0 ]\n",
    "P_df_positive = P_df[ L == 5 ]\n",
    "print('Plotting the negative image and positive imamge > ')\n",
    "plt.scatter(x = P_df_negative['1D'], y = P_df_negative['2D'], label = 'negative', c = 'b', alpha = 0.5)\n",
    "plt.scatter(x = P_df_positive['1D'], y = P_df_positive['2D'], label = 'positive', c = 'green', alpha = 0.5)\n",
    "plt.legend()\n",
    "plt.savefig('scatterplot_0_5.png')\n",
    "plt.show()\n",
    "\n",
    "print(plt)"
   ]
  },
  {
   "cell_type": "code",
   "execution_count": 15,
   "metadata": {},
   "outputs": [
    {
     "name": "stdout",
     "output_type": "stream",
     "text": [
      "(11344, 784)\n",
      "(11344, 1)\n"
     ]
    },
    {
     "data": {
      "text/plain": [
       "array([[0, 0, 0, ..., 0, 0, 0],\n",
       "       [0, 0, 0, ..., 0, 0, 0],\n",
       "       [0, 0, 0, ..., 0, 0, 0],\n",
       "       ..., \n",
       "       [0, 0, 0, ..., 0, 0, 0],\n",
       "       [0, 0, 0, ..., 0, 0, 0],\n",
       "       [0, 0, 0, ..., 0, 0, 0]], dtype=uint8)"
      ]
     },
     "execution_count": 15,
     "metadata": {},
     "output_type": "execute_result"
    }
   ],
   "source": [
    "print(X.shape)\n",
    "print(L.shape) \n",
    "pos_P = (L == 5)\n",
    "pos_P = pos_P[:,0]\n",
    "pos_N = (L == 0)\n",
    "pos_N = pos_N[:,0]\n",
    "X[pos_P,:]"
   ]
  },
  {
   "cell_type": "code",
   "execution_count": 16,
   "metadata": {},
   "outputs": [
    {
     "name": "stdout",
     "output_type": "stream",
     "text": [
      "µ >  (784,)\n",
      "First eighen vector >  (784,)\n",
      "Second eighen vector >  (784,)\n",
      "Number of sample > positive:5421, negative:5923\n",
      "mup >  [-525.96791221 -242.70083303]\n",
      "mun >  [ 481.38984502  222.1308823 ]\n",
      "cp (class +1 covariance matrix) >\n",
      "[[ 171963.66026279 -143062.14643749]\n",
      " [-143062.14643749  284280.06497111]] \n",
      "\n",
      "cp (class -1 covariance matrix) >\n",
      "[[ 358704.2833126   -92868.09272626]\n",
      " [ -92868.09272626  400027.06901261]]\n",
      "Histogram range, pc1 direction > min:-1490.38932527, max:1082.02106063 \n",
      "Histogram range, pc2 direction > min:1930.81947098, max:-1258.4658513 \n"
     ]
    }
   ],
   "source": [
    "# Fill in the excel \n",
    "print('µ > ', mu.shape)\n",
    "First_V = TwoRowVector[0,:]\n",
    "Second_V = TwoRowVector[1,:]\n",
    "print('First eighen vector > ',TwoRowVector[0,:].shape)\n",
    "print('Second eighen vector > ', TwoRowVector[1,:].shape)\n",
    "number_p = len(label5)   #number of sample for positive number\n",
    "number_n = len(label0)   #number of sample for negative number\n",
    "print('Number of sample > positive:%s, negative:%s' %(number_p,number_n))\n",
    "\n",
    "pos_P = (L == 5)\n",
    "pos_P = pos_P[:,0]\n",
    "pos_N = (L == 0)\n",
    "pos_N = pos_N[:,0]\n",
    "P_positive = TwoRowMatrix_P[pos_P,:]\n",
    "P_negative = TwoRowMatrix_P[pos_N,:]\n",
    "P_positive_mu = np.mean(P_positive, axis = 0)\n",
    "P_negative_mu = np.mean(P_negative, axis = 0)\n",
    "print('mup > ',P_positive_mu)\n",
    "print('mun > ',P_negative_mu)\n",
    "Covariance_P_Positive =  np.cov(P_positive, rowvar = False)\n",
    "Covariance_P_Negative =  np.cov(P_negative, rowvar = False)\n",
    "print('cp (class +1 covariance matrix) >')\n",
    "print(Covariance_P_Positive, '\\n')\n",
    "print('cp (class -1 covariance matrix) >')\n",
    "print(Covariance_P_Negative)\n",
    "\n",
    "TwoRowMatrix_P_max = np.max(P_positive)\n",
    "TwoRowMatrix_P_min = np.min(P_positive)\n",
    "TwoRowMatrix_N_max = np.max(P_negative)\n",
    "TwoRowMatrix_N_min = np.min(P_negative)\n",
    "print('Histogram range, pc1 direction > min:%s, max:%s '%(TwoRowMatrix_P_min,TwoRowMatrix_P_max) )\n",
    "print('Histogram range, pc2 direction > min:%s, max:%s '%(TwoRowMatrix_N_max,TwoRowMatrix_N_min) )"
   ]
  },
  {
   "cell_type": "code",
   "execution_count": 17,
   "metadata": {},
   "outputs": [
    {
     "name": "stdout",
     "output_type": "stream",
     "text": [
      "PCA.html                 scatterplot_0_5.png      train-images-idx3-ubyte\r\n",
      "PCA.ipynb                t10k-images-idx3-ubyte   train-labels-idx1-ubyte\r\n",
      "data3.xlsx               t10k-labels-idx1-ubyte   ~$data3.xlsx\r\n"
     ]
    }
   ],
   "source": [
    "ls"
   ]
  },
  {
   "cell_type": "code",
   "execution_count": 18,
   "metadata": {
    "collapsed": true
   },
   "outputs": [],
   "source": [
    "# excel export \n",
    "import pandas as pd\n",
    "writeExcelData(x = pd.DataFrame(mu).T, excelfile = 'data3.xlsx', sheetname = 'Results', startrow = 2, startcol = 2 )\n",
    "writeExcelData(x = pd.DataFrame(First_V).T, excelfile = 'data3.xlsx', sheetname = 'Results', startrow = 3, startcol = 2 )\n",
    "writeExcelData(x = pd.DataFrame(Second_V).T, excelfile = 'data3.xlsx', sheetname = 'Results', startrow = 4, startcol = 2 )\n",
    "writeExcelData(x = pd.DataFrame(np.array([number_p])), excelfile = 'data3.xlsx', sheetname = 'Results', startrow = 6, startcol = 2 )\n",
    "writeExcelData(x = pd.DataFrame(np.array([number_n])), excelfile = 'data3.xlsx', sheetname = 'Results', startrow = 7, startcol = 2 )\n",
    "writeExcelData(x = pd.DataFrame(P_positive_mu).T, excelfile = 'data3.xlsx', sheetname = 'Results', startrow = 9, startcol = 2 )\n",
    "writeExcelData(x = pd.DataFrame(P_negative_mu).T, excelfile = 'data3.xlsx', sheetname = 'Results', startrow = 10, startcol = 2 )\n",
    "writeExcelData(x = Covariance_P_Positive, excelfile = 'data3.xlsx', sheetname = 'Results', startrow = 12, startcol = 2 )\n",
    "writeExcelData(x = Covariance_P_Negative, excelfile = 'data3.xlsx', sheetname = 'Results', startrow = 14, startcol = 2 )\n",
    "\n",
    "pc1 = pd.DataFrame([TwoRowMatrix_P_min,TwoRowMatrix_P_max]).T\n",
    "pc2 = pd.DataFrame([TwoRowMatrix_N_min,TwoRowMatrix_N_max]).T\n",
    "writeExcelData(x = pc1, excelfile = 'data3.xlsx', sheetname = 'Results', startrow = 17, startcol = 2 )\n",
    "writeExcelData(x = pc2, excelfile = 'data3.xlsx', sheetname = 'Results', startrow = 18, startcol = 2 )\n",
    "\n",
    "\n",
    "\n"
   ]
  },
  {
   "cell_type": "code",
   "execution_count": 19,
   "metadata": {
    "collapsed": true
   },
   "outputs": [],
   "source": [
    "def hist_2d(x, xmin, xmax, labels, xbin = np.array([32,32])):\n",
    "    HP = np.zeros(shape = xbin).astype('int32')\n",
    "    HN = np.zeros(shape = xbin).astype('int32')\n",
    "    \n",
    "    to_which_bins = np.round( ((x-xmin) / (xmax-xmin)) * ( xbin-np.array([1,1] ) )).astype('int32') \n",
    "    \n",
    "    for vector, label in zip(to_which_bins, labels):\n",
    "        positive = 5\n",
    "        negative = 0\n",
    "        if label == positive:\n",
    "            HP[vector[0],vector[1]]+=1\n",
    "        else:\n",
    "            HN[vector[0],vector[1]]+=1\n",
    "    \n",
    "    return HP, HN\n",
    "    \n",
    "TwoRowMatrix_P.shape\n",
    "TwoRowMatrix_P_max = np.max(TwoRowMatrix_P,axis = 0)\n",
    "TwoRowMatrix_P_min = np.min(TwoRowMatrix_P,axis = 0)\n",
    "HP, HN = hist_2d(x = TwoRowMatrix_P, xmin = TwoRowMatrix_P_min, xmax = TwoRowMatrix_P_max, xbin = (32,32), labels = L)\n",
    "writeExcelData(x = HP, excelfile = 'data3.xlsx', sheetname = 'Results', startrow = 20, startcol = 2 )\n",
    "writeExcelData(x = HN, excelfile = 'data3.xlsx', sheetname = 'Results', startrow = 53, startcol = 2 )"
   ]
  },
  {
   "cell_type": "code",
   "execution_count": null,
   "metadata": {
    "collapsed": true
   },
   "outputs": [],
   "source": []
  },
  {
   "cell_type": "code",
   "execution_count": 20,
   "metadata": {
    "collapsed": true
   },
   "outputs": [],
   "source": [
    "def classifier_2dhist(queries, HP, HN, pmax, pmin): \n",
    "    bins_index = HP.shape - np.array([1,1])\n",
    "    queries_index = np.clip(np.round((queries-pmin)/(pmax-pmin) * np.alen(HP)) , 0 ,np.alen(HP)-1 ).astype('int32')\n",
    "    resultlabel = np.full(shape = np.alen(queries[0]), fill_value = 'Indeterminate').astype('object')\n",
    "    resultpro = np.full(shape = np.alen(queries[0]), fill_value = np.nan).astype('object')\n",
    "    countP = HP[queries_index[0],queries_index[1]]\n",
    "    countN = HN[queries_index[0],queries_index[1]]\n",
    "    IndexResultlableP = countP>countN\n",
    "    IndexResultlableN = countN>countP\n",
    "    resultlabel[IndexResultlableP] = 'Positive'\n",
    "    resultlabel[IndexResultlableN] = 'Negative'\n",
    "    if countP > countN:\n",
    "        resultpro = countP / (countP + countN)\n",
    "    elif countP == countN:\n",
    "        resultpro = 0.5\n",
    "    else:\n",
    "        resultpro = countN / (countP + countN)\n",
    "    return resultlabel, resultpro\n",
    "\n",
    "Pmax = np.max(TwoRowMatrix_P ,axis = 0)\n",
    "Pmin = np.min(TwoRowMatrix_P ,axis = 0)\n",
    "queryP = P_df_positive.values\n",
    "queryN = P_df_negative.values\n",
    "classifier_2dhist(queries = queryP[32], HP = HP, HN = HN, pmax = Pmax, pmin = Pmin)\n",
    "allimg_hist = [classifier_2dhist(queries = queryP[i], HP = HP, HN = HN, pmax = Pmax, pmin = Pmin) for i in range(0,len(queryP))]\n",
    "\n"
   ]
  },
  {
   "cell_type": "code",
   "execution_count": null,
   "metadata": {
    "collapsed": true
   },
   "outputs": [],
   "source": []
  },
  {
   "cell_type": "code",
   "execution_count": 21,
   "metadata": {
    "collapsed": true
   },
   "outputs": [],
   "source": [
    "\n",
    "def bayesian2(x, meanP, meanN, covP, covN, sizeP, sizeN):\n",
    "    P = (1/2*pi*sqrt(np.linalg.det(covP))) * exp(-0.5 * ((x-meanP).dot(np.linalg.inv(covP))).dot(np.transpose(x-meanP)))\n",
    "    N = (1/2*pi*sqrt(np.linalg.det(covN))) * exp(-0.5 *    np.dot( np.dot((x-meanN), np.linalg.inv(covN)), np.transpose(x-meanN) ) )\n",
    "    if P > N:\n",
    "        pro = sizeP*P/(sizeP*P+sizeN*N)\n",
    "        resultlable = 'Positive'\n",
    "    elif P==N:\n",
    "        pro = np.nan\n",
    "        resultlable = 'Indeterminate'\n",
    "    else:\n",
    "        pro = sizeN*N/(sizeP*P+sizeN*N)\n",
    "        resultlable = 'Negative'\n",
    "    return resultlable,pro\n",
    "P_mean_P = np.mean(queryP, axis = 0 )\n",
    "P_mean_N = np.mean(queryN, axis = 0 )\n",
    "bayesian2(x = queryP[7], meanP = P_mean_P , meanN = P_mean_N, \n",
    "          covP = Covariance_P_Positive, covN = Covariance_P_Negative, \n",
    "          sizeP = number_p , sizeN = number_n)\n",
    "allimg_baye = [bayesian2(x = queryP[i], meanP = P_mean_P , meanN = P_mean_N, \n",
    "          covP = Covariance_P_Positive, covN = Covariance_P_Negative, \n",
    "          sizeP = number_p , sizeN = number_n) for i in range(len(queryP))]\n",
    "\n",
    "\n"
   ]
  },
  {
   "cell_type": "code",
   "execution_count": null,
   "metadata": {
    "collapsed": true
   },
   "outputs": [],
   "source": []
  },
  {
   "cell_type": "code",
   "execution_count": 22,
   "metadata": {
    "collapsed": true
   },
   "outputs": [],
   "source": [
    "# testing\n",
    "#X   XZCVPR\n",
    "T_test, L_test = load_mnist(dataset = 'testing')\n",
    "\n",
    "X = T_test \n",
    "X_min = np.min(X, axis = 0)\n",
    "X_max = np.max(X, axis = 0)\n",
    "\n",
    "posP = L_test==5\n",
    "posP=posP[:,0]\n",
    "posN = L_test==0\n",
    "posN=posN[:,0]\n",
    "XP = X[ posP, : ].copy()\n",
    "XN = X[ posN, : ].copy()\n",
    "\n",
    "X_mu = np.mean(X,axis = 0)\n",
    "XP_mu = np.mean(XP, axis = 0)\n",
    "XN_mu = np.mean(XN, axis = 0)\n",
    "\n",
    "OneRowXP = XP[-1]\n",
    "OneRowXN = XN[-1]\n"
   ]
  },
  {
   "cell_type": "code",
   "execution_count": 23,
   "metadata": {
    "collapsed": true
   },
   "outputs": [],
   "source": [
    "#Z   XZCVPR\n",
    "Z = X - X_mu\n",
    "ZP = Z[ posP, : ].copy()\n",
    "ZN = Z[ posN, : ].copy()\n",
    "ZP_center = np.mean(ZP, axis = 0) \n",
    "ZN_center = np.mean(ZN, axis = 0)"
   ]
  },
  {
   "cell_type": "code",
   "execution_count": 24,
   "metadata": {
    "collapsed": true
   },
   "outputs": [],
   "source": [
    "#C   XZCVPR\n",
    "C = np.cov(Z, rowvar = False)"
   ]
  },
  {
   "cell_type": "code",
   "execution_count": 25,
   "metadata": {},
   "outputs": [
    {
     "name": "stdout",
     "output_type": "stream",
     "text": [
      "Test if the first row is eigh vector > \n",
      "[ 0.]\n",
      "It is!\n"
     ]
    },
    {
     "data": {
      "text/plain": [
       "(2, 784)"
      ]
     },
     "execution_count": 25,
     "metadata": {},
     "output_type": "execute_result"
    }
   ],
   "source": [
    "#V   XZCVPR\n",
    "V_value, V_vector = LA.eigh(C)\n",
    "V_value = np.flipud(V_value)\n",
    "V_vector = np.flipud(V_vector.T)\n",
    "print('Test if the first row is eigh vector > ')\n",
    "print(np.unique(np.round( np.dot(C, V_vector[0,:]) - V_vector[0,:]*V_value[0] )))\n",
    "print('It is!')\n",
    "TwoRow_V_vector = V_vector[0:2,:].copy()\n",
    "TwoRow_V_vector.shape"
   ]
  },
  {
   "cell_type": "code",
   "execution_count": 26,
   "metadata": {
    "collapsed": true
   },
   "outputs": [],
   "source": [
    "#P   XZCVPR\n",
    "P = np.dot(Z,V_vector.T)\n",
    "TwoCol_P = np.dot(Z,TwoRow_V_vector.T)\n",
    "TwoCol_PP = TwoCol_P[ posP, : ].copy()\n",
    "TwoCol_PN = TwoCol_P[ posN, : ].copy()\n",
    "OneRowTwoCol_PP = TwoCol_PP[2]\n",
    "OneRowTwoCol_PN = TwoCol_PN[2]\n"
   ]
  },
  {
   "cell_type": "code",
   "execution_count": 27,
   "metadata": {},
   "outputs": [
    {
     "name": "stdout",
     "output_type": "stream",
     "text": [
      "Test if R - X is close to zero >  [ 0.]\n"
     ]
    },
    {
     "data": {
      "text/plain": [
       "(784,)"
      ]
     },
     "execution_count": 27,
     "metadata": {},
     "output_type": "execute_result"
    }
   ],
   "source": [
    "#R   XZCVPR\n",
    "R = np.dot(P, V_vector)\n",
    "print('Test if R - X is close to zero > ', np.unique(np.round(R-Z)))\n",
    "RP = R[posP,:].copy()\n",
    "RN = R[posN,:].copy()\n",
    "OneRowRP = RP[11]\n",
    "OneRowRN = RN[11]\n",
    "OneRowRP.shape"
   ]
  },
  {
   "cell_type": "code",
   "execution_count": 28,
   "metadata": {},
   "outputs": [
    {
     "name": "stdout",
     "output_type": "stream",
     "text": [
      "[ 0.]\n"
     ]
    }
   ],
   "source": [
    "#xrec   XZCVPR\n",
    "xrec = R + X_mu;print(np.unique(np.round(xrec - X)))\n",
    "xrecp = xrec[ posP,: ]\n",
    "xrecn = xrec[posN,:]\n",
    "OneRowXrecp = xrecp[7]\n",
    "OneRowXrecn = xrecn[7]\n"
   ]
  },
  {
   "cell_type": "code",
   "execution_count": null,
   "metadata": {
    "collapsed": true
   },
   "outputs": [],
   "source": []
  },
  {
   "cell_type": "code",
   "execution_count": 29,
   "metadata": {
    "collapsed": true
   },
   "outputs": [],
   "source": [
    "# accuracy for testing set"
   ]
  },
  {
   "cell_type": "code",
   "execution_count": 30,
   "metadata": {},
   "outputs": [
    {
     "name": "stdout",
     "output_type": "stream",
     "text": [
      "+------+-------Hitogram-------+------\n",
      "Input as positive >  Positive 96.3636363636%\n",
      "Input as negative >  Negative 84.0% \n",
      "\n",
      "+------+-------Baysian-------+------\n",
      "Input as positive >  Positive 88.70199432669922%\n",
      "Input as negative >  Negative 80.68512687838016%\n"
     ]
    }
   ],
   "source": [
    "#TwoCol_P.shape\n",
    "#TwoCol_PP.shape\n",
    "#TwoCol_PN.shape\n",
    "TwoCol_P_max = np.max(TwoCol_P)\n",
    "TwoCol_P_min = np.min(TwoCol_P)\n",
    "\n",
    "#positive_histogram\n",
    "p_label,p_pro = classifier_2dhist(queries = OneRowTwoCol_PP, HP = HP, HN = HN, pmax = TwoCol_P_max, pmin = TwoCol_P_min)\n",
    "p_pro = str(p_pro * 100)+'%'\n",
    "#negative_histogram\n",
    "n_label, n_pro = classifier_2dhist(queries = OneRowTwoCol_PN, HP = HP, HN = HN, pmax = TwoCol_P_max, pmin = TwoCol_P_min)\n",
    "n_pro = str(n_pro * 100)+'%'\n",
    "\n",
    "print('+------+-------Hitogram-------+------')\n",
    "print('Input as positive > ',p_label[0], p_pro)\n",
    "print('Input as negative > ',n_label[0], n_pro,'\\n')\n",
    "\n",
    "\n",
    "\n",
    "\n",
    "print('+------+-------Baysian-------+------')\n",
    "\n",
    "\n",
    "\n",
    "#positive_bay\n",
    "p_label1, p_pro1 = bayesian2(x = TwoCol_PP[10], meanP = np.mean(TwoCol_PP,axis = 0), \n",
    "                             meanN = np.mean(TwoCol_PN,axis = 0), \n",
    "                             covP = np.cov(TwoCol_PP,rowvar = False), covN = np.cov(TwoCol_PN,rowvar = False), \n",
    "                             sizeP = len(TwoCol_PP), sizeN = len(TwoCol_PN))\n",
    "p_pro1 = str(p_pro1*100)+'%'\n",
    "#negative_bay\n",
    "n_label1, n_pro1 = bayesian2(x = TwoCol_PN[10], meanP = np.mean(TwoCol_PP,axis = 0), \n",
    "                             meanN = np.mean(TwoCol_PN,axis = 0), \n",
    "                             covP = np.cov(TwoCol_PP,rowvar = False), covN = np.cov(TwoCol_PN,rowvar = False), \n",
    "                             sizeP = len(TwoCol_PP), sizeN = len(TwoCol_PN))\n",
    "n_pro1 = str(n_pro1*100)+'%'\n",
    "\n",
    "\n",
    "print('Input as positive > ',p_label1, p_pro1)\n",
    "print('Input as negative > ',n_label1, n_pro1)"
   ]
  },
  {
   "cell_type": "code",
   "execution_count": 31,
   "metadata": {},
   "outputs": [
    {
     "name": "stdout",
     "output_type": "stream",
     "text": [
      "Testing accuracy attained using histograms >  86.37820512820514%\n"
     ]
    }
   ],
   "source": [
    "# accuracy\n",
    "predictive_label_hist = list()\n",
    "for v in TwoCol_P:\n",
    "    a,b = classifier_2dhist(queries = v, HP = HP, HN = HN, pmax = TwoCol_P_max, pmin = TwoCol_P_min)\n",
    "    predictive_label_hist.append(a[0])\n",
    "predictive_label_hist\n",
    "\n",
    "actual_label = list()\n",
    "for i in L_test:\n",
    "    if i[0] == 0:\n",
    "        actual_label.append('Negative')\n",
    "    elif i[0] == 5:\n",
    "        actual_label.append('Positive')\n",
    "\n",
    "predictive_label_hist = np.array(predictive_label_hist)\n",
    "actual_label = np.array(actual_label)\n",
    "resut = (predictive_label_hist == actual_label)\n",
    "true = resut[ resut==True ]\n",
    "false = resut[ resut == False ]\n",
    "result_accuracy_hist = len(true)/(len(true) + len(false))\n",
    "result_accuracy_hist = str(result_accuracy_hist * 100) + '%'\n",
    "print('Testing accuracy attained using histograms > ',result_accuracy_hist)"
   ]
  },
  {
   "cell_type": "code",
   "execution_count": 32,
   "metadata": {
    "scrolled": true
   },
   "outputs": [
    {
     "name": "stdout",
     "output_type": "stream",
     "text": [
      "Testing accuracy attained using Bayesian >  89.58333333333334%\n"
     ]
    }
   ],
   "source": [
    "meanP = np.mean(TwoCol_PP, axis = 0)\n",
    "meanN = np.mean(TwoCol_PN, axis = 0)\n",
    "covP = np.cov(TwoCol_PP,rowvar = False)\n",
    "covN = np.cov(TwoCol_PN,rowvar = False)\n",
    "sizeP = len(TwoCol_PP)\n",
    "sizeN = len(TwoCol_PN)\n",
    "\n",
    "predictive_label_bay = list()\n",
    "for v in TwoCol_P:\n",
    "    a,b = bayesian2(x = v, meanP = meanP, meanN = meanN, covP = covP, covN = covN, sizeP = sizeP, sizeN = sizeN)\n",
    "    predictive_label_bay.append(a)\n",
    "predictive_label_bay = np.array(predictive_label_bay)\n",
    "resut1 = (predictive_label_bay == actual_label )\n",
    "true1 = resut1[ resut1==True  ]\n",
    "false1 = resut1[ resut1 == False ]\n",
    "result_accuracy_bay = len(true1)/(len(true1)+len(false1))\n",
    "result_accuracy_bay = str(result_accuracy_bay * 100) + '%'\n",
    "print('Testing accuracy attained using Bayesian > ', result_accuracy_bay)\n"
   ]
  },
  {
   "cell_type": "code",
   "execution_count": 33,
   "metadata": {
    "collapsed": true
   },
   "outputs": [],
   "source": [
    "# excel export \n"
   ]
  },
  {
   "cell_type": "code",
   "execution_count": 34,
   "metadata": {
    "collapsed": true
   },
   "outputs": [],
   "source": [
    "writeExcelData(x = pd.DataFrame(OneRowXP).T, excelfile = 'data3.xlsx', sheetname = 'Results', startrow = 88, startcol = 2 )\n",
    "writeExcelData(x = pd.DataFrame(OneRowXN).T, excelfile = 'data3.xlsx', sheetname = 'Results', startrow = 94, startcol = 2 )\n",
    "writeExcelData(x = pd.DataFrame(ZP_center).T, excelfile = 'data3.xlsx', sheetname = 'Results', startrow = 89, startcol = 2 )\n",
    "writeExcelData(x = pd.DataFrame(ZN_center).T, excelfile = 'data3.xlsx', sheetname = 'Results', startrow = 95, startcol = 2 )\n",
    "writeExcelData(x = pd.DataFrame(OneRowTwoCol_PP).T, excelfile = 'data3.xlsx', sheetname = 'Results', startrow = 90, startcol = 2 )\n",
    "writeExcelData(x = pd.DataFrame(OneRowTwoCol_PN).T, excelfile = 'data3.xlsx', sheetname = 'Results', startrow = 96, startcol = 2 )\n",
    "writeExcelData(x = pd.DataFrame(OneRowRP).T, excelfile = 'data3.xlsx', sheetname = 'Results', startrow = 91, startcol = 2 )\n",
    "writeExcelData(x = pd.DataFrame(OneRowRN).T, excelfile = 'data3.xlsx', sheetname = 'Results', startrow = 97, startcol = 2 )\n",
    "writeExcelData(x = pd.DataFrame(OneRowXrecp).T, excelfile = 'data3.xlsx', sheetname = 'Results', startrow = 92, startcol = 2 )\n",
    "writeExcelData(x = pd.DataFrame(OneRowXrecn).T, excelfile = 'data3.xlsx', sheetname = 'Results', startrow = 98, startcol = 2 )\n",
    "\n",
    "writeExcelData(x = pd.DataFrame([p_label[0], p_pro]).T, excelfile = 'data3.xlsx', sheetname = 'Results', startrow = 103, startcol = 2 )\n",
    "writeExcelData(x = pd.DataFrame([n_label[0], n_pro]).T, excelfile = 'data3.xlsx', sheetname = 'Results', startrow = 104, startcol = 2 )\n",
    "writeExcelData(x = pd.DataFrame([p_label1, p_pro1]).T, excelfile = 'data3.xlsx', sheetname = 'Results', startrow = 107, startcol = 2 )\n",
    "writeExcelData(x = pd.DataFrame([n_label1, n_pro1]).T, excelfile = 'data3.xlsx', sheetname = 'Results', startrow = 108, startcol = 2 )\n",
    "writeExcelData(x = pd.DataFrame(np.array([result_accuracy_hist])), excelfile = 'data3.xlsx', sheetname = 'Results', startrow = 111, startcol = 2 )\n",
    "writeExcelData(x = pd.DataFrame(np.array([result_accuracy_bay])), excelfile = 'data3.xlsx', sheetname = 'Results', startrow = 112, startcol = 2 )\n"
   ]
  },
  {
   "cell_type": "code",
   "execution_count": null,
   "metadata": {
    "collapsed": true
   },
   "outputs": [],
   "source": []
  },
  {
   "cell_type": "code",
   "execution_count": null,
   "metadata": {
    "collapsed": true
   },
   "outputs": [],
   "source": []
  },
  {
   "cell_type": "code",
   "execution_count": null,
   "metadata": {
    "collapsed": true
   },
   "outputs": [],
   "source": []
  },
  {
   "cell_type": "code",
   "execution_count": null,
   "metadata": {
    "collapsed": true
   },
   "outputs": [],
   "source": []
  },
  {
   "cell_type": "code",
   "execution_count": null,
   "metadata": {
    "collapsed": true
   },
   "outputs": [],
   "source": []
  },
  {
   "cell_type": "code",
   "execution_count": null,
   "metadata": {
    "collapsed": true
   },
   "outputs": [],
   "source": []
  },
  {
   "cell_type": "code",
   "execution_count": null,
   "metadata": {
    "collapsed": true
   },
   "outputs": [],
   "source": []
  }
 ],
 "metadata": {
  "kernelspec": {
   "display_name": "Python 3",
   "language": "python",
   "name": "python3"
  },
  "language_info": {
   "codemirror_mode": {
    "name": "ipython",
    "version": 3
   },
   "file_extension": ".py",
   "mimetype": "text/x-python",
   "name": "python",
   "nbconvert_exporter": "python",
   "pygments_lexer": "ipython3",
   "version": "3.6.3"
  }
 },
 "nbformat": 4,
 "nbformat_minor": 2
}
